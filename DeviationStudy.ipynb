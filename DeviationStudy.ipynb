{
 "metadata": {
  "name": "",
  "signature": "sha256:9d4ea05d85610e909b2d2e33878cc8bca2a31a83742af287af8870ab3de253a0"
 },
 "nbformat": 3,
 "nbformat_minor": 0,
 "worksheets": [
  {
   "cells": [
    {
     "cell_type": "code",
     "collapsed": false,
     "input": [
      "#coding=utf-8\n",
      "import pandas as pd\n",
      "import numpy as np \n",
      "import os, datetime\n",
      "import matplotlib.pyplot as plt\n",
      "import tushare as ts\n",
      "from  matplotlib.finance import candlestick2_ohlc\n",
      "\n",
      "%reload_ext autoreload\n",
      "%autoreload 2\n",
      "#%pylab inline\n",
      "#%config InlineBackend.figure_format='svg'"
     ],
     "language": "python",
     "metadata": {},
     "outputs": [],
     "prompt_number": 1
    },
    {
     "cell_type": "code",
     "collapsed": false,
     "input": [
      "start_date='2010-06-10'\n",
      "end_date='2017-01-16'\n",
      "\n",
      "df_cy=ts.get_k_data('399006',start_date,end_date)\n",
      "df_cy=df_cy.set_index('date')\n",
      "df_50=ts.get_k_data('000016',start_date,end_date)\n",
      "df_50=df_50.set_index('date')\n",
      "df_sh=ts.get_k_data('000001',start_date,end_date,index=True)\n",
      "df_sh=df_sh.set_index('date')\n",
      "\n",
      "\n",
      "ser_cy=(df_cy.close-df_cy.close.shift(1))/df_cy.close.shift(1)*100\n",
      "ser_50=(df_50.close-df_50.close.shift(1))/df_50.close.shift(1)*100\n",
      "ser_sh=(df_sh.close-df_sh.close.shift(1))/df_sh.close.shift(1)*100\n",
      "\n",
      "ser_product=ser_cy*ser_50\n",
      "ser_differ=ser_50-ser_cy\n",
      "ser_D=ser_differ[ser_product<0]\n",
      "\n"
     ],
     "language": "python",
     "metadata": {},
     "outputs": [],
     "prompt_number": 2
    },
    {
     "cell_type": "code",
     "collapsed": false,
     "input": [
      "the_std=ser_D.std()\n",
      "the_mean=ser_D.mean()\n",
      "len(ser_D)\n",
      "ser_result=ser_D[(ser_D>the_mean+the_std)|(ser_D<the_mean-the_std)]\n"
     ],
     "language": "python",
     "metadata": {},
     "outputs": [],
     "prompt_number": 3
    },
    {
     "cell_type": "code",
     "collapsed": false,
     "input": [
      "df_temp=ser_result.to_frame()\n",
      "df_temp.columns=['selected']\n",
      "df_temp['date']=df_temp.index\n"
     ],
     "language": "python",
     "metadata": {},
     "outputs": [],
     "prompt_number": 4
    },
    {
     "cell_type": "code",
     "collapsed": false,
     "input": [
      "df_sh['date']=df_sh.index\n",
      "df_temp['date']=df_temp.index\n",
      "df_final=df_sh.merge(df_temp,how='outer')\n",
      "df_final=df_final.fillna(0)"
     ],
     "language": "python",
     "metadata": {},
     "outputs": [],
     "prompt_number": 5
    },
    {
     "cell_type": "code",
     "collapsed": false,
     "input": [
      "###\n",
      "df_plot=df_final.tail(250)\n"
     ],
     "language": "python",
     "metadata": {},
     "outputs": [],
     "prompt_number": 12
    },
    {
     "cell_type": "code",
     "collapsed": false,
     "input": [
      "#import matplotlib.dates as dates\n",
      "\n",
      "######\n",
      "plt.figure(figsize=(16,8),dpi=120)  # \u753b\u56fe\u4e4b\u524d\u9996\u5148\u8bbe\u7f6efigure\u5bf9\u8c61\uff0c\u6b64\u51fd\u6570\u76f8\u5f53\u4e8e\u8bbe\u7f6e\u4e00\u5757\u81ea\u5b9a\u4e49\u5927\u5c0f\u7684\u753b\u5e03\uff0c\u4f7f\u5f97\u540e\u9762\u7684\u56fe\u5f62\u8f93\u51fa\u5728\u8fd9\u5757\u89c4\u5b9a\u4e86\u5927\u5c0f\u7684\u753b\u5e03\u4e0a\uff0c\u5176\u4e2d\u53c2\u6570figsize\u8bbe\u7f6e\u753b\u5e03\u5927\u5c0f\n",
      "\n",
      "# \u5c06figure\u8bbe\u7f6e\u7684\u753b\u5e03\u5927\u5c0f\u5206\u6210\u51e0\u4e2a\u90e8\u5206\uff0c\u53c2\u6570\u2018211\u2019\u8868\u793a2(row)x2(colu),\u5373\u5c06\u753b\u5e03\u5206\u62102x2\uff0c\u4e24\u884c\u4e24\u5217\u76844\u5757\u533a\u57df\uff0c1\u8868\u793a\u9009\u62e9\u56fe\u5f62\u8f93\u51fa\u7684\u533a\u57df\u5728\u7b2c\u4e00\u5757\uff0c\u56fe\u5f62\u8f93\u51fa\u533a\u57df\u53c2\u6570\u5fc5\u987b\u5728\u201c\u884cx\u5217\u201d\u8303\u56f4                       \uff0c\u6b64\u5904\u5fc5\u987b\u57281\u548c2\u4e4b\u95f4\u9009\u62e9\u2014\u2014\u5982\u679c\u53c2\u6570\u8bbe\u7f6e\u4e3asubplot(111)\uff0c\u5219\u8868\u793a\u753b\u5e03\u6574\u4e2a\u8f93\u51fa\uff0c\u4e0d\u5206\u5272\u6210\u5c0f\u5757\u533a\u57df\uff0c\u56fe\u5f62\u76f4\u63a5\u8f93\u51fa\u5728\u6574\u5757\u753b\u5e03\u4e0a\n",
      "ax1=plt.subplot(111) \n",
      "### \u5728\u7b2c\u4e00\u5757\u533a\u57df\u8f93\u51fa\u56fe\u5f62\n",
      "\n",
      "candlestick2_ohlc(ax1,df_plot.open,df_plot.high,df_plot.low,df_plot.close,width=1, colorup='r', colordown='g', alpha=0.75)\n",
      "#ser_sh.plot(kind='line',ax=ax1)\n",
      "ax1.set_ylabel(r'Price')\n",
      "ax1.set_title('%s Daily' % 'SH50-CYB', fontsize=14)\n",
      "\n",
      "#ax1.xaxis.set_minor_locator(dates.WeekdayLocator(byweekday=(1),\n",
      "#                                                interval=1))\n",
      "ax1.xaxis.set_minor_formatter(dates.DateFormatter('%m\\n%a'))\n",
      "\n",
      "#ax1.xaxis.set_major_locator(dates.MonthLocator())\n",
      "########################\n",
      "#plt.subplot(212) ###\u57282x1\u753b\u5e03\u4e2d\u7b2c\u4e8c\u5757\u533a\u57df\u8f93\u51fa\u56fe\u5f62\n",
      "\n",
      "ax2=ax1.twinx()\n",
      "df_plot.selected.plot(kind='bar',ax=ax2)\n",
      "\n",
      "fig=plt.gcf()\n",
      "fig.autofmt_xdate()\n",
      "fig.tight_layout()\n",
      "#plt.setp(plt.gca().get_xticklabels(), rotation=30)\n",
      "\n",
      "plt.show()\n",
      "\n"
     ],
     "language": "python",
     "metadata": {},
     "outputs": [],
     "prompt_number": 23
    }
   ],
   "metadata": {}
  }
 ]
}